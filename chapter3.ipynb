{
 "cells": [
  {
   "cell_type": "code",
   "execution_count": 1,
   "metadata": {
    "collapsed": true
   },
   "outputs": [],
   "source": [
    "#import pygal before begining\n",
    "import pygal"
   ]
  },
  {
   "cell_type": "code",
   "execution_count": 2,
   "metadata": {
    "collapsed": true
   },
   "outputs": [],
   "source": [
    "#How to create a line chart\n",
    "line = pygal.Line() #use pygal Line function, set to variable \"line\"\n",
    "line.title = \"Popular Songs (2000-2017)\"#title chart\n",
    "line.x_labels = map(str, range (2000, 2007)) #label the years\n",
    "line.add(\"Downloads\", [ 4, 6, 12, 24, 32, 60, 72, 80,90, 148]) #datapoints\n",
    "line.render_to_file('linechart.svg') #create a new file"
   ]
  },
  {
   "cell_type": "code",
   "execution_count": 5,
   "metadata": {
    "collapsed": true
   },
   "outputs": [],
   "source": [
    "#Create a stacked line chart\n",
    "#Same as line chart but fills whitespace,\n",
    "#between lines with color of line above it.\n",
    "\n",
    "line = pygal.StackedLine (fill = True) #set fill = true \n",
    "line.title = \"Popular TV Shows (2002-2012)\" #create title\n",
    "line.x_labels = map (str, range (2000, 2012)) #choose range for dates\n",
    "line.add (\"Dexter\", [None, 0, 12, 32, 40, 50, 72, 148]) #none will leave white space.\n",
    "line.add (\"CSI\", [2, 16, 12, 87, 30, 55, 20, 38])\n",
    "line.add (\"Law & Order\", [10, 15, 40, 60, 30, 56, 60, 100])\n",
    "line.render_to_file ('stackedline.svg') #Save Chart"
   ]
  },
  {
   "cell_type": "code",
   "execution_count": 6,
   "metadata": {
    "collapsed": true
   },
   "outputs": [],
   "source": [
    "#This is a stacked line with fill= false\n",
    "\n",
    "\n",
    "line = pygal.StackedLine (fill = True) #set fill = true \n",
    "line.title = \"Popular TV Shows (2002-2012)\" #create title\n",
    "line.x_labels = map (str, range (2000, 2012)) #choose range for dates\n",
    "line.add (\"Dexter\", [None, 0, 12, 32, 40, 50, 72, 148]) #none will leave white space.\n",
    "line.add (\"CSI\", [2, 16, 12, 87, 30, 55, 20, 38]) #add. line creates new line\n",
    "line.add (\"Law & Order\", [10, 15, 40, 60, 30, 56, 60, 100])\n",
    "line.render_to_file ('stackedline2.svg') #Save chart to new file"
   ]
  },
  {
   "cell_type": "code",
   "execution_count": 7,
   "metadata": {
    "collapsed": true
   },
   "outputs": [],
   "source": [
    "#Create a bar chart with two variables\n",
    "#This bar chart shows the relationship between income and gender\n",
    "bar = pygal.Bar() #use pygal's Bar function\n",
    "bar.title = 'Income for Men and Women' #title\n",
    "bar.x_labels = map (str,('men', 'women')) #label axis\n",
    "bar.add('Income', [130, 90]) #income levels for men and women\n",
    "bar.render_to_file('bar_chart.svg') #save graph"
   ]
  },
  {
   "cell_type": "code",
   "execution_count": 8,
   "metadata": {
    "collapsed": true
   },
   "outputs": [],
   "source": [
    "#Bar Chart 2, second example\n",
    "bar = pygal.Bar()\n",
    "bar.title = \"Vegetables Sales (2012-2017)\"#title\n",
    "bar.x_labels = map (str, range (2012, 2017)) #put year range\n",
    "bar.add('Number of farmers markets in the area', [10, 12, 15, 20, 35]) #Add Bars\n",
    "bar.render_to_file ('bar_chart2.svg')#Save Data\n"
   ]
  },
  {
   "cell_type": "code",
   "execution_count": 9,
   "metadata": {
    "collapsed": true
   },
   "outputs": [],
   "source": [
    "#Create a Stacked Bar\n",
    "bar = pygal.StackedBar()#use stackedbar\n",
    "bar.title = 'Miles Ran by Gender (2000-2017)'#title\n",
    "bar.x_labels = map(str, range (2000, 2017))#put range for years\n",
    "bar.add('Jeff', [5, 10, 20, 14, 22, 25, 30, 35, 49, 60, 66, 80, 90, 100, 120, 130, 150, 200]) #bar names and data\n",
    "bar.add (\"Brenda\", [20, 35, 29, 40, 49, 50, 59, 66, 79, 100, 130, 149, 149, 200, 201, 210, 250, 270])\n",
    "bar.render_to_file ('bar_chart_stacked.svg')#save file"
   ]
  },
  {
   "cell_type": "code",
   "execution_count": 10,
   "metadata": {
    "collapsed": true
   },
   "outputs": [],
   "source": [
    "#stacked bar with flipped axis\n",
    "bar = pygal.HorizontalBar()\n",
    "bar.title = \"Hrs worked a Month\" #title\n",
    "bar.x_labels= map (str,('January', 'February', 'March', 'April', 'May', 'June', 'July', 'August', 'September', 'October', 'November', 'December'))#months\n",
    "bar.add ('Hours', [1.5, 2, 3, 5, 6, 6, 7, 7, 4, 3, 2.5, 3]) #data points and bar title\n",
    "bar.render_to_file ('chart_time.svg') #save file"
   ]
  },
  {
   "cell_type": "code",
   "execution_count": 11,
   "metadata": {
    "collapsed": true
   },
   "outputs": [],
   "source": [
    "#plot linear/nonlinear data \n",
    "#Used often in scientific time series data\n",
    "#(X,Y) format\n",
    "xy_chart = pygal.XY() \n",
    "xy_chart.add('Value 1', [(-50, -30), (100, 45)]) #put first point in line first\n",
    "xy_chart.render_to_file (\"xy_chart.svg\")#save"
   ]
  },
  {
   "cell_type": "code",
   "execution_count": 12,
   "metadata": {
    "collapsed": true
   },
   "outputs": [],
   "source": [
    "#Another XY chart\n",
    "\n",
    "xy_chart = pygal.XY()\n",
    "xy_chart.add (\"Line 1\", [(-20, -30), (50,30)]) #add data points\n",
    "xy_chart.add (\"Line 2\", [(0,10), (45, 60)])\n",
    "xy_chart.add (\"Line 3\", [(0,0), (60,60)])\n",
    "xy_chart.add (\"Line 4\", [(-45, -10), (70, 10)])\n",
    "xy_chart.render_to_file (\"xy1_chart.svg\") #save"
   ]
  },
  {
   "cell_type": "code",
   "execution_count": 13,
   "metadata": {
    "collapsed": true
   },
   "outputs": [],
   "source": [
    "#Basic Line Plot example\n",
    "xy_chart = pygal.XY() #use XY function\n",
    "xy_chart.add(\"Line 1\", [(-50, -30), (100, 45), (120, 56),(168, 102), (211, 192)]) #add points\n",
    "xy_chart.add (\"Line 2\", [(0,0), (10, 5), (35,0), (-10, 40)]) #add as many as desired\n",
    "xy_chart.add (\"Line 3\", [(-35, -20), (20, 40), (10, 10), (40,40)])\n",
    "xy_chart.render_to_file (\"xy2_chart.svg\") #save"
   ]
  },
  {
   "cell_type": "code",
   "execution_count": 14,
   "metadata": {
    "collapsed": true
   },
   "outputs": [],
   "source": [
    "#dot charts\n",
    "dot_chart = pygal.Dot(x_label_rotation=30) \n",
    "dot_chart.title = 'V8 benchmark results' #create title\n",
    "dot_chart.x_labels = ['Richards', 'DeltaBlue', 'Crypto', 'RayTrace', 'EarleyBoyer', 'RegExp', 'Splay', 'NavierStokes'] #names as lables\n",
    "dot_chart.add('Chrome', [6395, 8212, 7520, 7218, 12464, 1660, 2123, 8607]) #label for data points\n",
    "dot_chart.add('Firefox', [7473, 8099, 11700, 2651, 6361, 1044, 3797, 9450])\n",
    "dot_chart.add('Opera', [3472, 2933, 4203, 5229, 5810, 1828, 9013, 4669])\n",
    "dot_chart.add('IE', [43, 41, 59, 79, 144, 136, 34, 102])\n",
    "dot_chart.render_to_file (\"dot_chart.svg\") #save file"
   ]
  },
  {
   "cell_type": "code",
   "execution_count": 15,
   "metadata": {
    "collapsed": true
   },
   "outputs": [],
   "source": [
    "#Create a scatterplot with XY plots\n",
    "scatter_plot = pygal.XY(stroke = False) #Only way to achieve this in pygal\n",
    "scatter_plot.add('First', [(-50, -30), (100, 45), (120, 56), (168, 102), (211, 192), (279, 211)]) #add plot title and data\n",
    "scatter_plot.add('Second', [(-2, -14), (370, 444), (391, 464), (399, 512), (412, 569), (789, 896)])\n",
    "scatter_plot.add('Third',  [(2, 10), (142, 164), (184, 216), (203, 243), (208, 335), (243, 201)])\n",
    "scatter_plot.render_to_file(\"scatterplot.svg\")"
   ]
  },
  {
   "cell_type": "code",
   "execution_count": 16,
   "metadata": {
    "collapsed": true
   },
   "outputs": [],
   "source": [
    "#import datetime module and sleep library\n",
    "\n",
    "import datetime\n",
    "from time import sleep"
   ]
  },
  {
   "cell_type": "code",
   "execution_count": 17,
   "metadata": {},
   "outputs": [
    {
     "name": "stdout",
     "output_type": "stream",
     "text": [
      "Slept for fewer than 3 seconds\n"
     ]
    }
   ],
   "source": [
    "start = datetime.datetime.now()\n",
    "sleep(3) #delay the python script for 3 seconds.\n",
    "stop = datetime.datetime.now()\n",
    "elapsed = stop - start #set variable for elapsed\n",
    "if elapsed > datetime.timedelta(minutes=3): #if loop; set minutes equal to integer \n",
    "    print (\"Slept for greater than 3 minutes\")\n",
    "if elapsed > datetime.timedelta(seconds=3): #can create same loop for mins\n",
    "    print (\"Slept for fewer than 3 seconds\")"
   ]
  },
  {
   "cell_type": "code",
   "execution_count": 19,
   "metadata": {
    "collapsed": true
   },
   "outputs": [],
   "source": [
    "#import timedelta library\n",
    "from datetime import datetime, timedelta"
   ]
  },
  {
   "cell_type": "code",
   "execution_count": 20,
   "metadata": {
    "collapsed": true
   },
   "outputs": [],
   "source": [
    "#Using Date Y\n",
    "Date_Y = pygal.DateTimeLine (x_label_rotation=35, truncate_label=-1, x_value_formatter=lambda dt: dt.strftime('%d, %b %Y at %I:%M:%S %p')) #use lambda function for x values\n",
    "Date_Y.title = \"Flights and amount of passengers arriving from St.Louis.\" #create chart title\n",
    "Date_Y.add(\"Arrival\", [ # Data label\n",
    "    (datetime(2014, 1, 5), 42),\n",
    "    (datetime(2014, 1, 14), 123),\n",
    "    (datetime(2014, 2, 2), 97),\n",
    "    (datetime(2014, 3, 22), 164)]) #datetime data (date first)\n",
    "Date_Y.render_to_file('datey_chart.svg') #save"
   ]
  },
  {
   "cell_type": "code",
   "execution_count": null,
   "metadata": {
    "collapsed": true
   },
   "outputs": [],
   "source": [
    "import pygal, time\n",
    "from datetime import datetime\n",
    "#this code sets a delay between two arrivals,\n",
    "#and sets the time for each data point. \n",
    "arrival1 = datetime.now()\n",
    "time.sleep(277) #delay\n",
    "arrival2 = datetime.now()\n",
    "delta = arrival2 - arrival1 #time between arrivals\n",
    "result = str(delta.seconds) + ' seconds'\n",
    "Date_Y = pygal.DateTimeLine(x_label_rotation=25)\n",
    "Date_Y.title = \"Flights and amount of passengers arriving from St.Louis.\" #chart title\n",
    "Date_Y.add(\"Arrival\", [ #data label\n",
    "       (datetime(2014, 1, 5), 42),\n",
    "       (datetime(2014, 1, 14), 123),\n",
    "       (datetime(2014, 2, 2), 97),\n",
    "       (datetime(2014, 3, 22), 164)]) #data points\n",
    "Date_Y.add(\"Arrivals today (time between flights %s)\" % result, [(arrival1, 14),(arrival2, 47)]) #time between flights\n",
    "Date_Y.render_to_file('datey3_chart.svg') #save"
   ]
  },
  {
   "cell_type": "code",
   "execution_count": null,
   "metadata": {
    "collapsed": true
   },
   "outputs": [],
   "source": [
    "#pie chart\n",
    "pie_chart = pygal.Pie() #add after pie to create donut chart: (inner_radius=.5)\n",
    "pie_chart.title = 'Race and Ethnicity (in %)' #chart title\n",
    "pie_chart.add('White', 22.5) #create slices with name in quotes and data \n",
    "pie_chart.add('African Americans', 19.6) #make sure they add to 100%\n",
    "pie_chart.add('Asians', 16.3)\n",
    "pie_chart.add('Hispanics', 14.5)\n",
    "pie_chart.add('Native Americans', 2.3)\n",
    "pie_chart.render_to_file ('pie_chart.svg') #save"
   ]
  },
  {
   "cell_type": "code",
   "execution_count": null,
   "metadata": {
    "collapsed": true
   },
   "outputs": [],
   "source": []
  }
 ],
 "metadata": {
  "kernelspec": {
   "display_name": "Python 3",
   "language": "python",
   "name": "python3"
  },
  "language_info": {
   "codemirror_mode": {
    "name": "ipython",
    "version": 3
   },
   "file_extension": ".py",
   "mimetype": "text/x-python",
   "name": "python",
   "nbconvert_exporter": "python",
   "pygments_lexer": "ipython3",
   "version": "3.6.1"
  }
 },
 "nbformat": 4,
 "nbformat_minor": 2
}
